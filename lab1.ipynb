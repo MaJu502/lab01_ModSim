{
 "cells": [
  {
   "attachments": {},
   "cell_type": "markdown",
   "metadata": {},
   "source": [
    "# Laboratorio 1 -Modelación y Simulación-\n",
    "Marco Jurado 20308 <br>\n",
    "Cristian Aguirre "
   ]
  },
  {
   "attachments": {},
   "cell_type": "markdown",
   "metadata": {},
   "source": [
    "### Ejercicio 1\n",
    "1. Calcule e imprima la media, la varianza y la asimetría de la muestra.\n",
    "2. Trace un histograma de los datos y observe su forma.\n",
    "3. ¿Qué le dicen estas estadísticas sobre la tendencia central, la dispersión y la forma de los datos?"
   ]
  },
  {
   "cell_type": "code",
   "execution_count": null,
   "metadata": {},
   "outputs": [],
   "source": []
  },
  {
   "attachments": {},
   "cell_type": "markdown",
   "metadata": {},
   "source": [
    "### Ejercicio 2\n",
    "1. Trace la función de densidad de probabilidad (PDF) y la función de distribución acumulativa (CDF) de los datos.\n",
    "2. Calcule e imprima las probabilidades para intervalos específicos utilizando la CDF. (por lo menos 2 intervalos a su elección)\n",
    "3. ¿Qué información puede obtener de la forma del PDF y el comportamiento de la CDF?"
   ]
  },
  {
   "cell_type": "code",
   "execution_count": null,
   "metadata": {},
   "outputs": [],
   "source": []
  },
  {
   "attachments": {},
   "cell_type": "markdown",
   "metadata": {},
   "source": [
    "### Ejercicio 3\n",
    "1. Calcule e imprima el sesgo y la curtosis de la muestra.\n",
    "2. Analice las implicaciones del sesgo y la curtosis en la forma y las características de la distribución."
   ]
  },
  {
   "cell_type": "code",
   "execution_count": null,
   "metadata": {},
   "outputs": [],
   "source": []
  },
  {
   "attachments": {},
   "cell_type": "markdown",
   "metadata": {},
   "source": [
    "### Ejercicio 4\n",
    "1. Trace un histograma de los datos generados.\n",
    "2. Calcule e imprima la media y la varianza de la muestra.\n",
    "3. ¿Puedes observar algún patrón o tendencia en los datos generados a partir de la distribución de Poisson?"
   ]
  },
  {
   "cell_type": "code",
   "execution_count": null,
   "metadata": {},
   "outputs": [],
   "source": []
  },
  {
   "attachments": {},
   "cell_type": "markdown",
   "metadata": {},
   "source": [
    "### Ejercicio 5\n",
    "1. Trace un histograma de los datos generados.\n",
    "2. Compare el histograma con la PDF teórica de la distribución normal.\n",
    "3. ¿La muestra generada representa con precisión la distribución normal subyacente?"
   ]
  },
  {
   "cell_type": "code",
   "execution_count": null,
   "metadata": {},
   "outputs": [],
   "source": []
  },
  {
   "attachments": {},
   "cell_type": "markdown",
   "metadata": {},
   "source": [
    "### Ejercicio 6 \n",
    "1. Utilice MLE para estimar los parámetros de forma y escala de la distribución gamma de la muestra.\n",
    "2. ¿Qué tan cerca están los parámetros estimados de los parámetros verdaderos?\n",
    "3. ¿Puede evaluar la bondad de ajuste de la distribución estimada a los datos observados?"
   ]
  },
  {
   "cell_type": "code",
   "execution_count": null,
   "metadata": {},
   "outputs": [],
   "source": []
  },
  {
   "attachments": {},
   "cell_type": "markdown",
   "metadata": {},
   "source": [
    "### Ejercicio 7\n",
    "1. Visualice los puntos de datos en un diagrama de dispersión.\n",
    "2. Calcula e imprime el coeficiente de correlación entre las dos variables.\n",
    "3. ¿Qué información puede obtener sobre la relación entre las variables del diagrama de dispersión y el coeficiente de correlación?"
   ]
  },
  {
   "cell_type": "code",
   "execution_count": null,
   "metadata": {},
   "outputs": [],
   "source": []
  },
  {
   "attachments": {},
   "cell_type": "markdown",
   "metadata": {},
   "source": [
    "### Ejercicio 8 \n",
    "1. Realice una prueba de bondad de ajuste de chi-cuadrado para evaluar si la muestra sigue una distribución uniforme.\n",
    "2. Interprete el resultado de la prueba y saque conclusiones sobre el ajuste de los datos.\n",
    "3. ¿Puede sugerir alguna modificación para mejorar la bondad de ajuste?"
   ]
  },
  {
   "cell_type": "code",
   "execution_count": null,
   "metadata": {},
   "outputs": [],
   "source": []
  }
 ],
 "metadata": {
  "language_info": {
   "name": "python"
  },
  "orig_nbformat": 4
 },
 "nbformat": 4,
 "nbformat_minor": 2
}
